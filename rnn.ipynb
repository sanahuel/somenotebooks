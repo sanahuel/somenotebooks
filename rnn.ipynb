{
 "cells": [
  {
   "attachments": {},
   "cell_type": "markdown",
   "metadata": {},
   "source": [
    "## rnn"
   ]
  },
  {
   "cell_type": "code",
   "execution_count": 48,
   "metadata": {},
   "outputs": [],
   "source": [
    "import torch\n",
    "import torch.nn as nn\n",
    "\n",
    "class RNN(nn.Module):\n",
    "    def __init__(self, input_size, hidden_size, n_layers, sequence_lenght):\n",
    "        super(RNN, self).__init__()\n",
    "        self.hidden_size = hidden_size\n",
    "        self.n_layers = n_layers\n",
    "        self.rnn = nn.RNN(input_size, hidden_size, n_layers, batch_first=True)\n",
    "        self.fc = nn.Linear(hidden_size*sequence_lenght, 1)\n",
    "\n",
    "    def forward(self, x):\n",
    "        h0 = torch.zeros(self.n_layers, self.hidden_size).to('cuda' if torch.cuda.is_available() else 'cpu')\n",
    "\n",
    "        out, _ = self.rnn(x, h0)\n",
    "        out = torch.flatten(out)\n",
    "        out = self.fc(out)\n",
    "        return out"
   ]
  },
  {
   "attachments": {},
   "cell_type": "markdown",
   "metadata": {},
   "source": [
    "## test"
   ]
  },
  {
   "cell_type": "code",
   "execution_count": 49,
   "metadata": {},
   "outputs": [
    {
     "name": "stdout",
     "output_type": "stream",
     "text": [
      "CUDA available: True\n",
      "torch.Size([1])\n"
     ]
    }
   ],
   "source": [
    "print(f'CUDA available: {torch.cuda.is_available()}')\n",
    "\n",
    "rnn = RNN(input_size=4, hidden_size=32, n_layers=2, sequence_lenght=30).to('cuda' if torch.cuda.is_available() else 'cpu')\n",
    "\n",
    "x = torch.rand((30, 4)).to('cuda' if torch.cuda.is_available() else 'cpu')\n",
    "x.to('cuda' if torch.cuda.is_available() else 'cpu')\n",
    "print(rnn(x).shape)"
   ]
  },
  {
   "attachments": {},
   "cell_type": "markdown",
   "metadata": {},
   "source": [
    "## data"
   ]
  },
  {
   "cell_type": "code",
   "execution_count": 50,
   "metadata": {},
   "outputs": [],
   "source": [
    "import pandas as pd\n",
    "import numpy as np\n",
    "from sklearn.preprocessing import MinMaxScaler\n",
    "import matplotlib.pyplot as plt\n",
    "\n",
    "# https://www.kaggle.com/code/sanmitpatil/delhi-mean-temperature-lstm\n",
    "\n",
    "data = pd.read_csv('./climate/DailyDelhiClimateTrain.csv')\n",
    "data = data.drop([1461])\n",
    "data = data.drop(columns=['date'])\n",
    "\n",
    "#standarize columns\n",
    "scaler=MinMaxScaler()\n",
    "scaler2=MinMaxScaler()\n",
    "scaler3=MinMaxScaler()\n",
    "scaler4=MinMaxScaler()\n",
    "\n",
    "meantemp_scaled = scaler.fit_transform(data[['meantemp']])\n",
    "humidity_scaled = scaler2.fit_transform(data[['humidity']])\n",
    "windspeed_scaled = scaler3.fit_transform(data[['wind_speed']])\n",
    "meanpressure_scaled = scaler4.fit_transform(data[['meanpressure']])\n",
    "X_scaled = np.concatenate((meantemp_scaled, humidity_scaled, windspeed_scaled, meanpressure_scaled), axis=1)\n",
    "\n",
    "#batches of 30 days\n",
    "x=[]\n",
    "for i in range(X_scaled.shape[0]-30):\n",
    "    row = X_scaled[i:i+31]\n",
    "    x.append(row)\n",
    "x=np.array(x)\n",
    "X_train = x[:,:-1].astype('float32')\n",
    "Y_train = x[:,-1,0] .astype('float32')\n",
    "\n",
    "#hyperparam\n",
    "device = 'cuda' if torch.cuda.is_available() else 'cpu'\n",
    "lr = 3e-6\n",
    "\n",
    "\n",
    "optim = torch.optim.Adam(rnn.parameters(), lr=lr, betas=(0.5, 0.999))\n",
    "criterion = nn.MSELoss()\n"
   ]
  },
  {
   "attachments": {},
   "cell_type": "markdown",
   "metadata": {},
   "source": [
    "## train"
   ]
  },
  {
   "cell_type": "code",
   "execution_count": 57,
   "metadata": {},
   "outputs": [
    {
     "name": "stdout",
     "output_type": "stream",
     "text": [
      "Epoch: 0  loss:0.005625221878290176\n",
      "Epoch: 1  loss:0.005585763603448868\n",
      "Epoch: 2  loss:0.005545720923691988\n",
      "Epoch: 3  loss:0.005505048204213381\n",
      "Epoch: 4  loss:0.00546378456056118\n",
      "Epoch: 5  loss:0.005421922076493502\n",
      "Epoch: 6  loss:0.005379507318139076\n",
      "Epoch: 7  loss:0.005336575675755739\n",
      "Epoch: 8  loss:0.005293143913149834\n",
      "Epoch: 9  loss:0.005249211564660072\n",
      "Epoch: 10  loss:0.005204834509640932\n",
      "Epoch: 11  loss:0.005160011816769838\n",
      "Epoch: 12  loss:0.00511476956307888\n",
      "Epoch: 13  loss:0.005069119390100241\n",
      "Epoch: 14  loss:0.005023167002946138\n",
      "Epoch: 15  loss:0.0049768853932619095\n",
      "Epoch: 16  loss:0.004930248949676752\n",
      "Epoch: 17  loss:0.004883369896560907\n",
      "Epoch: 18  loss:0.00483621284365654\n",
      "Epoch: 19  loss:0.0047888061963021755\n",
      "Epoch: 20  loss:0.00474121468141675\n",
      "Epoch: 21  loss:0.004693427588790655\n",
      "Epoch: 22  loss:0.004645488690584898\n",
      "Epoch: 23  loss:0.0045974161475896835\n",
      "Epoch: 24  loss:0.004549130797386169\n",
      "Epoch: 25  loss:0.0045008365996181965\n",
      "Epoch: 26  loss:0.004452454391866922\n",
      "Epoch: 27  loss:0.004404017236083746\n",
      "Epoch: 28  loss:0.004355498589575291\n",
      "Epoch: 29  loss:0.004307037219405174\n",
      "Epoch: 30  loss:0.004258598200976849\n",
      "Epoch: 31  loss:0.00421013543382287\n",
      "Epoch: 32  loss:0.004161776974797249\n",
      "Epoch: 33  loss:0.004113464616239071\n",
      "Epoch: 34  loss:0.004065289627760649\n",
      "Epoch: 35  loss:0.004017239902168512\n",
      "Epoch: 36  loss:0.003969258163124323\n",
      "Epoch: 37  loss:0.003921490162611008\n",
      "Epoch: 38  loss:0.0038738849107176065\n",
      "Epoch: 39  loss:0.003826463595032692\n",
      "Epoch: 40  loss:0.003779264632612467\n",
      "Epoch: 41  loss:0.0037322640419006348\n",
      "Epoch: 42  loss:0.003685492090880871\n",
      "Epoch: 43  loss:0.0036390009336173534\n",
      "Epoch: 44  loss:0.003592744003981352\n",
      "Epoch: 45  loss:0.0035468044225126505\n",
      "Epoch: 46  loss:0.0035011672880500555\n",
      "Epoch: 47  loss:0.003455843310803175\n",
      "Epoch: 48  loss:0.003410845994949341\n",
      "Epoch: 49  loss:0.0033661918714642525\n"
     ]
    }
   ],
   "source": [
    "epochs = 50\n",
    "losses = []\n",
    "\n",
    "for epoch in range(epochs):\n",
    "    for x,y in zip(X_train,Y_train):\n",
    "        x = torch.from_numpy(x).to(device)\n",
    "        y = torch.tensor([torch.tensor(y)]).to(device)\n",
    "        \n",
    "        #forward\n",
    "        out = rnn(x)\n",
    "        loss = criterion(out,y)\n",
    "\n",
    "        #backward\n",
    "        optim.zero_grad()\n",
    "        loss.backward()\n",
    "        optim.step()\n",
    "\n",
    "        losses.append(loss.detach().item())\n",
    "\n",
    "    print(f'Epoch: {epoch}  loss:{loss}')"
   ]
  },
  {
   "cell_type": "code",
   "execution_count": 59,
   "metadata": {},
   "outputs": [
    {
     "data": {
      "text/plain": [
       "<matplotlib.legend.Legend at 0x15f514235e0>"
      ]
     },
     "execution_count": 59,
     "metadata": {},
     "output_type": "execute_result"
    },
    {
     "data": {
      "image/png": "[encoded data removed]",
      "text/plain": [
       "<Figure size 432x288 with 1 Axes>"
      ]
     },
     "metadata": {
      "needs_background": "light"
     },
     "output_type": "display_data"
    }
   ],
   "source": [
    "import matplotlib.pyplot as plt\n",
    "\n",
    "test_data = pd.read_csv('./climate/DailyDelhiClimateTest.csv')\n",
    "\n",
    "meantemp_scaled1 = scaler.fit_transform(test_data[['meantemp']])\n",
    "humidity_scaled1 = scaler2.fit_transform(test_data[['humidity']])\n",
    "windspeed_scaled1 = scaler3.fit_transform(test_data[['wind_speed']])\n",
    "meanpressure_scaled1 = scaler4.fit_transform(test_data[['meanpressure']])\n",
    "new_data_scaled = np.concatenate((meantemp_scaled1, humidity_scaled1, windspeed_scaled1, meanpressure_scaled1), axis=1)\n",
    "x1=[]\n",
    "for i in range(new_data_scaled.shape[0]-30):\n",
    "    row = new_data_scaled[i:i+31]\n",
    "    x1.append(row)\n",
    "    \n",
    "x1=np.array(x1)\n",
    "X_test = x1[:,:-1].astype('float32')\n",
    "Y_test = x1[:,-1,0].astype('float32')\n",
    "\n",
    "out = []\n",
    "for x in X_test:\n",
    "    x = torch.from_numpy(x).to(device)\n",
    "    out.append(rnn(x).item())\n",
    "\n",
    "plt.figure()\n",
    "plt.plot(out[:], label=\"Predicted Temperature\")\n",
    "plt.plot(Y_test[:], label=\"Temperature\")\n",
    "plt.legend()"
   ]
  }
 ],
 "metadata": {
  "kernelspec": {
   "display_name": "base",
   "language": "python",
   "name": "python3"
  },
  "language_info": {
   "codemirror_mode": {
    "name": "ipython",
    "version": 3
   },
   "file_extension": ".py",
   "mimetype": "text/x-python",
   "name": "python",
   "nbconvert_exporter": "python",
   "pygments_lexer": "ipython3",
   "version": "3.9.5"
  },
  "orig_nbformat": 4
 },
 "nbformat": 4,
 "nbformat_minor": 2
}
