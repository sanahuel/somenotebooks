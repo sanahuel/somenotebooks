{
 "cells": [
  {
   "attachments": {},
   "cell_type": "markdown",
   "metadata": {},
   "source": [
    "## alexnet"
   ]
  },
  {
   "cell_type": "code",
   "execution_count": 16,
   "metadata": {},
   "outputs": [],
   "source": [
    "import torch\n",
    "import torch.nn as nn\n",
    "\n",
    "class AlexNet(nn.Module):\n",
    "    def __init__(self, input_channels, num_classes=10) -> None:\n",
    "        super(AlexNet, self).__init__()\n",
    "        self.conv1 = nn.Conv2d(input_channels, 96, kernel_size=(11,11), stride=(4,4))\n",
    "        self.conv2 = nn.Conv2d(96, 256, kernel_size=(5,5), padding=(2,2), stride=(1,1))\n",
    "        self.conv3 = nn.Conv2d(256, 384, kernel_size=(3,3), padding=(1,1), stride=(1,1))\n",
    "        self.conv4 = nn.Conv2d(384, 384, kernel_size=(3,3), padding=(1,1), stride=(1,1))\n",
    "        self.conv5 = nn.Conv2d(384, 256, kernel_size=(3,3), padding=(1,1), stride=(1,1))\n",
    "\n",
    "        self.relu = nn.ReLU()\n",
    "        self.maxpool = nn.MaxPool2d(kernel_size=(3,3), stride=(2,2))\n",
    "        self.dropout = nn.Dropout(p=0.5)\n",
    "\n",
    "        self.fc1 = nn.Linear(5*5*256, 4096)\n",
    "        self.fc2 = nn.Linear(4096, 4096)\n",
    "        self.fc3 = nn.Linear(4096, num_classes)\n",
    "\n",
    "    def forward(self, x):\n",
    "        x = self.relu(self.conv1(x))\n",
    "        x = self.maxpool(x)\n",
    "        x = self.relu(self.conv2(x))\n",
    "        x = self.maxpool(x)\n",
    "        x = self.relu(self.conv3(x))\n",
    "        x = self.relu(self.conv4(x))\n",
    "        x = self.relu(self.conv5(x))\n",
    "        x = self.maxpool(x)\n",
    "        x = x.reshape(x.shape[0], -1)\n",
    "        x = self.relu(self.fc1(self.dropout(x)))\n",
    "        x = self.relu(self.fc2(self.dropout(x)))\n",
    "        x = self.fc3(x)\n",
    "        return x\n",
    "\n",
    "        "
   ]
  },
  {
   "cell_type": "code",
   "execution_count": 17,
   "metadata": {},
   "outputs": [
    {
     "name": "stdout",
     "output_type": "stream",
     "text": [
      "torch.Size([1, 10])\n"
     ]
    }
   ],
   "source": [
    "alexnet = AlexNet(input_channels=3)\n",
    "\n",
    "x = torch.rand(1, 3, 224, 224)\n",
    "\n",
    "print(alexnet(x).shape)"
   ]
  }
 ],
 "metadata": {
  "kernelspec": {
   "display_name": "Trabajo",
   "language": "python",
   "name": "python3"
  },
  "language_info": {
   "codemirror_mode": {
    "name": "ipython",
    "version": 3
   },
   "file_extension": ".py",
   "mimetype": "text/x-python",
   "name": "python",
   "nbconvert_exporter": "python",
   "pygments_lexer": "ipython3",
   "version": "3.10.4"
  },
  "orig_nbformat": 4,
  "vscode": {
   "interpreter": {
    "hash": "f47fc5675075274d57a4032ad4de193cdb0fb56acbb272e441e696c6ad6667ea"
   }
  }
 },
 "nbformat": 4,
 "nbformat_minor": 2
}
