{
 "cells": [
  {
   "attachments": {},
   "cell_type": "markdown",
   "metadata": {},
   "source": [
    "## vgg"
   ]
  },
  {
   "cell_type": "code",
   "execution_count": 1,
   "metadata": {},
   "outputs": [],
   "source": [
    "import torch\n",
    "import torch.nn as nn\n",
    "\n",
    "class VGG(nn.Module):\n",
    "    def __init__(self, structure, input_channels=3, num_classes=10):\n",
    "        super(VGG, self).__init__()\n",
    "        self.structure = structure\n",
    "        self.input_channels = input_channels\n",
    "\n",
    "        self.conv_layers = self.ensamble_conv()\n",
    "        self.fc_layers = nn.Sequential(\n",
    "            nn.Linear(512*7*7, 4096),\n",
    "            nn.ReLU(),\n",
    "            nn.Dropout(p=0.5),\n",
    "            nn.Linear(4096,4096),\n",
    "            nn.ReLU(),\n",
    "            nn.Dropout(p=0.5),\n",
    "            nn.Linear(4096, num_classes)\n",
    "        )\n",
    "    \n",
    "    def forward(self, x):\n",
    "        x = self.conv_layers(x)\n",
    "        x = x.reshape(x.shape[0], -1)\n",
    "        x = self.fc_layers(x)\n",
    "        return x\n",
    "\n",
    "    def ensamble_conv(self):\n",
    "        layers = []\n",
    "        in_channels = self.input_channels\n",
    "\n",
    "        for x in self.structure:\n",
    "            if type(x) == int:\n",
    "                out_channels = x\n",
    "\n",
    "                layers += [\n",
    "                    nn.Conv2d(\n",
    "                        in_channels=in_channels,\n",
    "                        out_channels=out_channels,\n",
    "                        kernel_size=(3, 3),\n",
    "                        stride=(1, 1),\n",
    "                        padding=(1, 1),\n",
    "                    ),\n",
    "                    nn.BatchNorm2d(x),\n",
    "                    nn.ReLU(),\n",
    "                ]\n",
    "                in_channels = x\n",
    "            elif x == \"m\":\n",
    "                layers += [nn.MaxPool2d(kernel_size=(2, 2), stride=(2, 2))]\n",
    "\n",
    "        return nn.Sequential(*layers)\n"
   ]
  },
  {
   "cell_type": "code",
   "execution_count": 2,
   "metadata": {},
   "outputs": [
    {
     "name": "stdout",
     "output_type": "stream",
     "text": [
      "torch.Size([3, 10])\n"
     ]
    }
   ],
   "source": [
    "structure = {\n",
    "    \"VGG11\": [64, \"m\", 128, \"m\", 256, 256, \"m\", 512, 512, \"m\", 512, 512, \"m\"],\n",
    "    \"VGG13\": [64, 64, \"m\", 128, 128, \"m\", 256, 256, \"m\", 512, 512, \"m\", 512, 512, \"m\"],\n",
    "    \"VGG16\": [64,64,\"m\",128,128,\"m\",256,256,256,\"m\",512,512,512,\"M\",512,512,512,\"m\"],\n",
    "    \"VGG19\": [64,64,\"m\",128,128,\"m\",256,256,256,256,\"m\",512,512,512,512,\"m\",512,512,512,512, \"m\"],\n",
    "}\n",
    "\n",
    "VGG11 = VGG(structure[\"VGG11\"], input_channels=1, num_classes=10)\n",
    "\n",
    "x = torch.randn(3, 1, 224, 224)\n",
    "print(VGG11(x).shape)"
   ]
  },
  {
   "attachments": {},
   "cell_type": "markdown",
   "metadata": {},
   "source": [
    "## load data"
   ]
  },
  {
   "cell_type": "code",
   "execution_count": 3,
   "metadata": {},
   "outputs": [
    {
     "name": "stdout",
     "output_type": "stream",
     "text": [
      "Dataset MNIST\n",
      "    Number of datapoints: 60000\n",
      "    Root location: ./mnist/\n",
      "    Split: Train\n",
      "    StandardTransform\n",
      "Transform: Compose(\n",
      "               Resize(size=(224, 224), interpolation=bilinear, max_size=None, antialias=None)\n",
      "               ToTensor()\n",
      "           )\n",
      "Dataset MNIST\n",
      "    Number of datapoints: 10000\n",
      "    Root location: ./mnist/\n",
      "    Split: Test\n",
      "    StandardTransform\n",
      "Transform: Compose(\n",
      "               Resize(size=(224, 224), interpolation=bilinear, max_size=None, antialias=None)\n",
      "               ToTensor()\n",
      "           )\n"
     ]
    }
   ],
   "source": [
    "%matplotlib inline\n",
    "import torchvision\n",
    "from torch.utils.data import DataLoader\n",
    "\n",
    "transform = torchvision.transforms.Compose(\n",
    "    [torchvision.transforms.Resize((224, 224)),\n",
    "     torchvision.transforms.ToTensor()]\n",
    "     )\n",
    "\n",
    "\n",
    "train_dataset = torchvision.datasets.MNIST(root='./mnist/', train=True, download=False, transform=transform)\n",
    "test_dataset = torchvision.datasets.MNIST(root='./mnist/', train=False, download=False, transform=transform)\n",
    "print(train_dataset)\n",
    "print(test_dataset)\n",
    "\n",
    "loaders = {\n",
    "    'train' : torch.utils.data.DataLoader(\n",
    "        train_dataset, \n",
    "        batch_size=64, \n",
    "        shuffle=True, \n",
    "        num_workers=1),\n",
    "    \n",
    "    'test'  : torch.utils.data.DataLoader(\n",
    "        test_dataset, \n",
    "        batch_size=64, \n",
    "        shuffle=True, \n",
    "        num_workers=1\n",
    "        )\n",
    "}"
   ]
  },
  {
   "attachments": {},
   "cell_type": "markdown",
   "metadata": {},
   "source": [
    "## train"
   ]
  },
  {
   "cell_type": "code",
   "execution_count": null,
   "metadata": {},
   "outputs": [],
   "source": [
    "from torch.autograd import Variable\n",
    "\n",
    "torch.cuda.empty_cache()\n",
    "\n",
    "criterion = nn.functional.nll_loss\n",
    "optimizer = torch.optim.SGD(VGG11.parameters(), lr=0.01)\n",
    "\n",
    "\n",
    "for epoch in range(10):\n",
    "    for data, target in loaders['train']:\n",
    "\n",
    "        output = VGG11(data)\n",
    "        loss = criterion(output, target)\n",
    "        \n",
    "        optimizer.zero_grad()           \n",
    "        \n",
    "        loss.backward()    \n",
    "        optimizer.step()     \n",
    "\n",
    "    print(f\"Epoch {epoch}: loss {loss.item()}\")           \n"
   ]
  }
 ],
 "metadata": {
  "kernelspec": {
   "display_name": "base",
   "language": "python",
   "name": "python3"
  },
  "language_info": {
   "codemirror_mode": {
    "name": "ipython",
    "version": 3
   },
   "file_extension": ".py",
   "mimetype": "text/x-python",
   "name": "python",
   "nbconvert_exporter": "python",
   "pygments_lexer": "ipython3",
   "version": "3.9.5"
  },
  "orig_nbformat": 4,
  "vscode": {
   "interpreter": {
    "hash": "5a5cc2f56fa7f0a3a6c3d956dc22923e6463414f580aad7ce5572123691d9f72"
   }
  }
 },
 "nbformat": 4,
 "nbformat_minor": 2
}
